{
  "nbformat": 4,
  "nbformat_minor": 0,
  "metadata": {
    "colab": {
      "provenance": []
    },
    "kernelspec": {
      "name": "python3",
      "display_name": "Python 3"
    },
    "language_info": {
      "name": "python"
    }
  },
  "cells": [
    {
      "cell_type": "markdown",
      "source": [
        "##Hand Written Digit Prediction - Classification Analysis\n"
      ],
      "metadata": {
        "id": "ajCksvEL-zKe"
      }
    },
    {
      "cell_type": "markdown",
      "source": [
        "The digits dataset consist of 8x8 pixel images of digits. The images attributes of the dataset stores 8x8 arrays of grayscale values for each Image. We will use these arrays to visualize the first 4 images. The target attribute of the dataset stores the digit each image represents\n"
      ],
      "metadata": {
        "id": "bv17WwNa_sCx"
      }
    },
    {
      "cell_type": "markdown",
      "source": [
        "##Import Library"
      ],
      "metadata": {
        "id": "lGU-ZkyQACoH"
      }
    },
    {
      "cell_type": "code",
      "source": [
        "import pandas as pd\n",
        "import numpy as np\n",
        "import matplotlib.pyplot as plt"
      ],
      "metadata": {
        "id": "kfToS1LPAHsw"
      },
      "execution_count": 9,
      "outputs": []
    },
    {
      "cell_type": "markdown",
      "source": [
        "##Import data\n"
      ],
      "metadata": {
        "id": "5R3ffBT1AWYI"
      }
    },
    {
      "cell_type": "code",
      "source": [
        "from sklearn.datasets import load_digits"
      ],
      "metadata": {
        "id": "Kr2rICyJAbP_"
      },
      "execution_count": 6,
      "outputs": []
    },
    {
      "cell_type": "code",
      "source": [
        "df = load_digits()"
      ],
      "metadata": {
        "id": "yLUp-BejAirV"
      },
      "execution_count": 7,
      "outputs": []
    },
    {
      "cell_type": "code",
      "source": [
        "_, axes = plt.subplots(nrows=1,ncols=4,figsize=(10,3))\n",
        "for ax,image,label in zip(axes,df.images,df.target):\n",
        "  ax.set_axis_off()\n",
        "  ax.imshow(image,cmap=plt.cm.gray_r,interpolation=\"nearest\")\n",
        "  ax.set_title(\"Training: %i\" % label)"
      ],
      "metadata": {
        "colab": {
          "base_uri": "https://localhost:8080/",
          "height": 227
        },
        "id": "n48g8Hp3A17s",
        "outputId": "d5d8c74c-44f2-4f99-9fae-2f3185d63708"
      },
      "execution_count": 10,
      "outputs": [
        {
          "output_type": "display_data",
          "data": {
            "text/plain": [
              "<Figure size 1000x300 with 4 Axes>"
            ],
            "image/png": "[encoded data removed]"
          },
          "metadata": {}
        }
      ]
    },
    {
      "cell_type": "markdown",
      "source": [],
      "metadata": {
        "id": "Jg4kDMwV-NzM"
      }
    },
    {
      "cell_type": "markdown",
      "source": [
        "##Data Preprocessing"
      ],
      "metadata": {
        "id": "xfmsKWSXBvKc"
      }
    },
    {
      "cell_type": "markdown",
      "source": [
        "Flatten image"
      ],
      "metadata": {
        "id": "uT_LH82MBzeX"
      }
    },
    {
      "cell_type": "code",
      "source": [
        "df.images.shape"
      ],
      "metadata": {
        "colab": {
          "base_uri": "https://localhost:8080/",
          "height": 0
        },
        "id": "w7CA176sCcD4",
        "outputId": "a036c8b2-c60a-40be-8b33-c61f112c60d3"
      },
      "execution_count": 12,
      "outputs": [
        {
          "output_type": "execute_result",
          "data": {
            "text/plain": [
              "(1797, 8, 8)"
            ]
          },
          "metadata": {},
          "execution_count": 12
        }
      ]
    },
    {
      "cell_type": "code",
      "source": [
        "df.images[0]"
      ],
      "metadata": {
        "colab": {
          "base_uri": "https://localhost:8080/",
          "height": 0
        },
        "id": "H8jTI5afCfx0",
        "outputId": "618d6e62-f339-4ab6-97df-cee5628bb257"
      },
      "execution_count": 13,
      "outputs": [
        {
          "output_type": "execute_result",
          "data": {
            "text/plain": [
              "array([[ 0.,  0.,  5., 13.,  9.,  1.,  0.,  0.],\n",
              "       [ 0.,  0., 13., 15., 10., 15.,  5.,  0.],\n",
              "       [ 0.,  3., 15.,  2.,  0., 11.,  8.,  0.],\n",
              "       [ 0.,  4., 12.,  0.,  0.,  8.,  8.,  0.],\n",
              "       [ 0.,  5.,  8.,  0.,  0.,  9.,  8.,  0.],\n",
              "       [ 0.,  4., 11.,  0.,  1., 12.,  7.,  0.],\n",
              "       [ 0.,  2., 14.,  5., 10., 12.,  0.,  0.],\n",
              "       [ 0.,  0.,  6., 13., 10.,  0.,  0.,  0.]])"
            ]
          },
          "metadata": {},
          "execution_count": 13
        }
      ]
    },
    {
      "cell_type": "code",
      "source": [
        "df.images[0].shape"
      ],
      "metadata": {
        "colab": {
          "base_uri": "https://localhost:8080/",
          "height": 0
        },
        "id": "7rGlVoe4Cihb",
        "outputId": "2b1462d6-b50a-44ed-aa17-1c82e0059372"
      },
      "execution_count": 14,
      "outputs": [
        {
          "output_type": "execute_result",
          "data": {
            "text/plain": [
              "(8, 8)"
            ]
          },
          "metadata": {},
          "execution_count": 14
        }
      ]
    },
    {
      "cell_type": "code",
      "source": [
        "len(df.images)"
      ],
      "metadata": {
        "colab": {
          "base_uri": "https://localhost:8080/",
          "height": 0
        },
        "id": "dN_17uuMCmv-",
        "outputId": "ba975856-79c1-4415-d8a2-697041f8a64e"
      },
      "execution_count": 15,
      "outputs": [
        {
          "output_type": "execute_result",
          "data": {
            "text/plain": [
              "1797"
            ]
          },
          "metadata": {},
          "execution_count": 15
        }
      ]
    },
    {
      "cell_type": "code",
      "source": [
        "n_samples = len(df.images)\n",
        "data = df.images.reshape((n_samples),-1)"
      ],
      "metadata": {
        "id": "MxGuXfjICqoa"
      },
      "execution_count": 18,
      "outputs": []
    },
    {
      "cell_type": "code",
      "source": [
        "data[0]"
      ],
      "metadata": {
        "colab": {
          "base_uri": "https://localhost:8080/",
          "height": 0
        },
        "id": "7RzrlI5VCqlm",
        "outputId": "9192ddc2-74fc-4dc8-9fc6-0d5f1897b01f"
      },
      "execution_count": 19,
      "outputs": [
        {
          "output_type": "execute_result",
          "data": {
            "text/plain": [
              "array([ 0.,  0.,  5., 13.,  9.,  1.,  0.,  0.,  0.,  0., 13., 15., 10.,\n",
              "       15.,  5.,  0.,  0.,  3., 15.,  2.,  0., 11.,  8.,  0.,  0.,  4.,\n",
              "       12.,  0.,  0.,  8.,  8.,  0.,  0.,  5.,  8.,  0.,  0.,  9.,  8.,\n",
              "        0.,  0.,  4., 11.,  0.,  1., 12.,  7.,  0.,  0.,  2., 14.,  5.,\n",
              "       10., 12.,  0.,  0.,  0.,  0.,  6., 13., 10.,  0.,  0.,  0.])"
            ]
          },
          "metadata": {},
          "execution_count": 19
        }
      ]
    },
    {
      "cell_type": "code",
      "source": [
        "data[0].shape"
      ],
      "metadata": {
        "colab": {
          "base_uri": "https://localhost:8080/",
          "height": 0
        },
        "id": "oalmX14CC6l1",
        "outputId": "ddba9c35-0e06-4446-ff26-01df81ac25f7"
      },
      "execution_count": 20,
      "outputs": [
        {
          "output_type": "execute_result",
          "data": {
            "text/plain": [
              "(64,)"
            ]
          },
          "metadata": {},
          "execution_count": 20
        }
      ]
    },
    {
      "cell_type": "code",
      "source": [
        "data.shape"
      ],
      "metadata": {
        "colab": {
          "base_uri": "https://localhost:8080/",
          "height": 0
        },
        "id": "wWHM43oMC_VO",
        "outputId": "cc8558fc-9b5e-41d1-c6ee-b4e0a2009820"
      },
      "execution_count": 21,
      "outputs": [
        {
          "output_type": "execute_result",
          "data": {
            "text/plain": [
              "(1797, 64)"
            ]
          },
          "metadata": {},
          "execution_count": 21
        }
      ]
    },
    {
      "cell_type": "markdown",
      "source": [
        "##Scaling Image Data"
      ],
      "metadata": {
        "id": "ZwbnEX3sDCeF"
      }
    },
    {
      "cell_type": "code",
      "source": [
        "data.min()"
      ],
      "metadata": {
        "colab": {
          "base_uri": "https://localhost:8080/",
          "height": 0
        },
        "id": "5wyPElmfDBH_",
        "outputId": "ed111a2b-1c8f-45f4-cb5f-8d0570763316"
      },
      "execution_count": 22,
      "outputs": [
        {
          "output_type": "execute_result",
          "data": {
            "text/plain": [
              "0.0"
            ]
          },
          "metadata": {},
          "execution_count": 22
        }
      ]
    },
    {
      "cell_type": "code",
      "source": [
        "data.max()"
      ],
      "metadata": {
        "colab": {
          "base_uri": "https://localhost:8080/",
          "height": 0
        },
        "id": "StQP2hXbDNNF",
        "outputId": "f33a9abc-e2d5-471a-9cc5-c635cab0d981"
      },
      "execution_count": 23,
      "outputs": [
        {
          "output_type": "execute_result",
          "data": {
            "text/plain": [
              "16.0"
            ]
          },
          "metadata": {},
          "execution_count": 23
        }
      ]
    },
    {
      "cell_type": "code",
      "source": [
        "data = data/16"
      ],
      "metadata": {
        "id": "LCKM6zy_DYF8"
      },
      "execution_count": 24,
      "outputs": []
    },
    {
      "cell_type": "code",
      "source": [
        "data.min()"
      ],
      "metadata": {
        "colab": {
          "base_uri": "https://localhost:8080/",
          "height": 0
        },
        "id": "Mhdxf7clDcgM",
        "outputId": "ec8b249b-d4df-49f9-da16-ad2af3887b1f"
      },
      "execution_count": 25,
      "outputs": [
        {
          "output_type": "execute_result",
          "data": {
            "text/plain": [
              "0.0"
            ]
          },
          "metadata": {},
          "execution_count": 25
        }
      ]
    },
    {
      "cell_type": "code",
      "source": [
        "data.max()"
      ],
      "metadata": {
        "colab": {
          "base_uri": "https://localhost:8080/",
          "height": 0
        },
        "id": "A9I_dh6_DndF",
        "outputId": "e76139e0-f5a7-430c-fb9c-b28421a110c1"
      },
      "execution_count": 28,
      "outputs": [
        {
          "output_type": "execute_result",
          "data": {
            "text/plain": [
              "1.0"
            ]
          },
          "metadata": {},
          "execution_count": 28
        }
      ]
    },
    {
      "cell_type": "code",
      "source": [
        "data[0]"
      ],
      "metadata": {
        "colab": {
          "base_uri": "https://localhost:8080/",
          "height": 0
        },
        "id": "jzWM1Cl6DjEl",
        "outputId": "e11387d4-90ea-4456-e75b-19f1150922b0"
      },
      "execution_count": 27,
      "outputs": [
        {
          "output_type": "execute_result",
          "data": {
            "text/plain": [
              "array([0.    , 0.    , 0.3125, 0.8125, 0.5625, 0.0625, 0.    , 0.    ,\n",
              "       0.    , 0.    , 0.8125, 0.9375, 0.625 , 0.9375, 0.3125, 0.    ,\n",
              "       0.    , 0.1875, 0.9375, 0.125 , 0.    , 0.6875, 0.5   , 0.    ,\n",
              "       0.    , 0.25  , 0.75  , 0.    , 0.    , 0.5   , 0.5   , 0.    ,\n",
              "       0.    , 0.3125, 0.5   , 0.    , 0.    , 0.5625, 0.5   , 0.    ,\n",
              "       0.    , 0.25  , 0.6875, 0.    , 0.0625, 0.75  , 0.4375, 0.    ,\n",
              "       0.    , 0.125 , 0.875 , 0.3125, 0.625 , 0.75  , 0.    , 0.    ,\n",
              "       0.    , 0.    , 0.375 , 0.8125, 0.625 , 0.    , 0.    , 0.    ])"
            ]
          },
          "metadata": {},
          "execution_count": 27
        }
      ]
    },
    {
      "cell_type": "markdown",
      "source": [
        "##Train Test Split Data"
      ],
      "metadata": {
        "id": "f31oajVKDq6M"
      }
    },
    {
      "cell_type": "code",
      "source": [
        "from sklearn.model_selection import train_test_split"
      ],
      "metadata": {
        "id": "QK-DZ49MDyLh"
      },
      "execution_count": 29,
      "outputs": []
    },
    {
      "cell_type": "code",
      "source": [
        "X_train,X_test,y_train,y_test = train_test_split(data,df.target,test_size=0.3)"
      ],
      "metadata": {
        "id": "aU_HxtDYD-T9"
      },
      "execution_count": 30,
      "outputs": []
    },
    {
      "cell_type": "code",
      "source": [
        "X_train.shape,X_test.shape,y_train.shape,y_test.shape"
      ],
      "metadata": {
        "colab": {
          "base_uri": "https://localhost:8080/",
          "height": 0
        },
        "id": "vThWfG9AENBc",
        "outputId": "f5843eef-dec7-47f4-8d2d-05fd9d9877e4"
      },
      "execution_count": 32,
      "outputs": [
        {
          "output_type": "execute_result",
          "data": {
            "text/plain": [
              "((1257, 64), (540, 64), (1257,), (540,))"
            ]
          },
          "metadata": {},
          "execution_count": 32
        }
      ]
    },
    {
      "cell_type": "markdown",
      "source": [
        "##Random Forest Model (model - 1)"
      ],
      "metadata": {
        "id": "IffqAdQpEcZE"
      }
    },
    {
      "cell_type": "code",
      "source": [
        "from sklearn.ensemble import RandomForestClassifier"
      ],
      "metadata": {
        "id": "KHBCudRuEheC"
      },
      "execution_count": 43,
      "outputs": []
    },
    {
      "cell_type": "code",
      "source": [
        "model1 = RandomForestClassifier()"
      ],
      "metadata": {
        "id": "4wCfliqQEpOd"
      },
      "execution_count": 46,
      "outputs": []
    },
    {
      "cell_type": "code",
      "source": [
        "model1.fit(X_train,y_train)"
      ],
      "metadata": {
        "colab": {
          "base_uri": "https://localhost:8080/",
          "height": 74
        },
        "id": "QiJUBxYuEvKr",
        "outputId": "5eca46c9-9dc7-4bbd-83a5-093f4ae7ac23"
      },
      "execution_count": 47,
      "outputs": [
        {
          "output_type": "execute_result",
          "data": {
            "text/plain": [
              "RandomForestClassifier()"
            ],
            "text/html": [
              "<style>#sk-container-id-3 {color: black;background-color: white;}#sk-container-id-3 pre{padding: 0;}#sk-container-id-3 div.sk-toggleable {background-color: white;}#sk-container-id-3 label.sk-toggleable__label {cursor: pointer;display: block;width: 100%;margin-bottom: 0;padding: 0.3em;box-sizing: border-box;text-align: center;}#sk-container-id-3 label.sk-toggleable__label-arrow:before {content: \"▸\";float: left;margin-right: 0.25em;color: #696969;}#sk-container-id-3 label.sk-toggleable__label-arrow:hover:before {color: black;}#sk-container-id-3 div.sk-estimator:hover label.sk-toggleable__label-arrow:before {color: black;}#sk-container-id-3 div.sk-toggleable__content {max-height: 0;max-width: 0;overflow: hidden;text-align: left;background-color: #f0f8ff;}#sk-container-id-3 div.sk-toggleable__content pre {margin: 0.2em;color: black;border-radius: 0.25em;background-color: #f0f8ff;}#sk-container-id-3 input.sk-toggleable__control:checked~div.sk-toggleable__content {max-height: 200px;max-width: 100%;overflow: auto;}#sk-container-id-3 input.sk-toggleable__control:checked~label.sk-toggleable__label-arrow:before {content: \"▾\";}#sk-container-id-3 div.sk-estimator input.sk-toggleable__control:checked~label.sk-toggleable__label {background-color: #d4ebff;}#sk-container-id-3 div.sk-label input.sk-toggleable__control:checked~label.sk-toggleable__label {background-color: #d4ebff;}#sk-container-id-3 input.sk-hidden--visually {border: 0;clip: rect(1px 1px 1px 1px);clip: rect(1px, 1px, 1px, 1px);height: 1px;margin: -1px;overflow: hidden;padding: 0;position: absolute;width: 1px;}#sk-container-id-3 div.sk-estimator {font-family: monospace;background-color: #f0f8ff;border: 1px dotted black;border-radius: 0.25em;box-sizing: border-box;margin-bottom: 0.5em;}#sk-container-id-3 div.sk-estimator:hover {background-color: #d4ebff;}#sk-container-id-3 div.sk-parallel-item::after {content: \"\";width: 100%;border-bottom: 1px solid gray;flex-grow: 1;}#sk-container-id-3 div.sk-label:hover label.sk-toggleable__label {background-color: #d4ebff;}#sk-container-id-3 div.sk-serial::before {content: \"\";position: absolute;border-left: 1px solid gray;box-sizing: border-box;top: 0;bottom: 0;left: 50%;z-index: 0;}#sk-container-id-3 div.sk-serial {display: flex;flex-direction: column;align-items: center;background-color: white;padding-right: 0.2em;padding-left: 0.2em;position: relative;}#sk-container-id-3 div.sk-item {position: relative;z-index: 1;}#sk-container-id-3 div.sk-parallel {display: flex;align-items: stretch;justify-content: center;background-color: white;position: relative;}#sk-container-id-3 div.sk-item::before, #sk-container-id-3 div.sk-parallel-item::before {content: \"\";position: absolute;border-left: 1px solid gray;box-sizing: border-box;top: 0;bottom: 0;left: 50%;z-index: -1;}#sk-container-id-3 div.sk-parallel-item {display: flex;flex-direction: column;z-index: 1;position: relative;background-color: white;}#sk-container-id-3 div.sk-parallel-item:first-child::after {align-self: flex-end;width: 50%;}#sk-container-id-3 div.sk-parallel-item:last-child::after {align-self: flex-start;width: 50%;}#sk-container-id-3 div.sk-parallel-item:only-child::after {width: 0;}#sk-container-id-3 div.sk-dashed-wrapped {border: 1px dashed gray;margin: 0 0.4em 0.5em 0.4em;box-sizing: border-box;padding-bottom: 0.4em;background-color: white;}#sk-container-id-3 div.sk-label label {font-family: monospace;font-weight: bold;display: inline-block;line-height: 1.2em;}#sk-container-id-3 div.sk-label-container {text-align: center;}#sk-container-id-3 div.sk-container {/* jupyter's `normalize.less` sets `[hidden] { display: none; }` but bootstrap.min.css set `[hidden] { display: none !important; }` so we also need the `!important` here to be able to override the default hidden behavior on the sphinx rendered scikit-learn.org. See: https://github.com/scikit-learn/scikit-learn/issues/21755 */display: inline-block !important;position: relative;}#sk-container-id-3 div.sk-text-repr-fallback {display: none;}</style><div id=\"sk-container-id-3\" class=\"sk-top-container\"><div class=\"sk-text-repr-fallback\"><pre>RandomForestClassifier()</pre><b>In a Jupyter environment, please rerun this cell to show the HTML representation or trust the notebook. <br />On GitHub, the HTML representation is unable to render, please try loading this page with nbviewer.org.</b></div><div class=\"sk-container\" hidden><div class=\"sk-item\"><div class=\"sk-estimator sk-toggleable\"><input class=\"sk-toggleable__control sk-hidden--visually\" id=\"sk-estimator-id-3\" type=\"checkbox\" checked><label for=\"sk-estimator-id-3\" class=\"sk-toggleable__label sk-toggleable__label-arrow\">RandomForestClassifier</label><div class=\"sk-toggleable__content\"><pre>RandomForestClassifier()</pre></div></div></div></div></div>"
            ]
          },
          "metadata": {},
          "execution_count": 47
        }
      ]
    },
    {
      "cell_type": "markdown",
      "source": [
        "##Predict Test Data"
      ],
      "metadata": {
        "id": "Sc-4Ph4OE22m"
      }
    },
    {
      "cell_type": "code",
      "source": [
        "y_pred1 = model1.predict(X_test)"
      ],
      "metadata": {
        "id": "92G-ox26E6W8"
      },
      "execution_count": 49,
      "outputs": []
    },
    {
      "cell_type": "code",
      "source": [
        "y_pred1"
      ],
      "metadata": {
        "colab": {
          "base_uri": "https://localhost:8080/",
          "height": 0
        },
        "id": "DAKWXVpwE_Po",
        "outputId": "7d1ed673-d0db-491c-dd12-7befd0024bea"
      },
      "execution_count": 50,
      "outputs": [
        {
          "output_type": "execute_result",
          "data": {
            "text/plain": [
              "array([8, 5, 0, 0, 6, 4, 8, 4, 2, 6, 6, 9, 5, 2, 1, 1, 0, 9, 3, 8, 7, 6,\n",
              "       4, 3, 8, 6, 7, 8, 9, 6, 3, 0, 6, 7, 9, 7, 0, 1, 3, 5, 7, 4, 3, 9,\n",
              "       3, 7, 7, 0, 7, 2, 6, 9, 7, 4, 4, 2, 6, 0, 7, 6, 6, 1, 2, 7, 6, 3,\n",
              "       2, 1, 6, 6, 1, 7, 9, 6, 7, 1, 4, 0, 7, 3, 5, 0, 4, 0, 2, 8, 8, 0,\n",
              "       5, 1, 1, 3, 9, 5, 3, 0, 5, 7, 5, 5, 0, 7, 3, 8, 6, 5, 0, 0, 3, 0,\n",
              "       3, 7, 3, 6, 0, 6, 8, 7, 9, 7, 1, 1, 8, 5, 1, 0, 3, 8, 1, 4, 6, 8,\n",
              "       2, 0, 4, 4, 5, 8, 8, 3, 6, 5, 8, 2, 9, 7, 7, 4, 3, 1, 9, 2, 4, 2,\n",
              "       6, 5, 8, 7, 1, 7, 5, 0, 7, 0, 9, 3, 2, 3, 0, 2, 3, 4, 6, 0, 6, 4,\n",
              "       6, 4, 3, 3, 7, 0, 1, 8, 6, 8, 8, 5, 0, 0, 0, 1, 2, 8, 9, 0, 6, 6,\n",
              "       6, 0, 4, 7, 0, 4, 1, 6, 1, 4, 6, 5, 8, 6, 0, 5, 5, 7, 6, 2, 4, 5,\n",
              "       3, 6, 3, 7, 3, 9, 3, 2, 7, 8, 3, 6, 6, 6, 1, 8, 8, 6, 6, 5, 4, 0,\n",
              "       5, 4, 4, 4, 1, 8, 0, 7, 0, 2, 5, 0, 9, 3, 5, 4, 8, 5, 0, 4, 1, 9,\n",
              "       4, 2, 2, 2, 9, 7, 5, 8, 3, 3, 3, 8, 2, 7, 5, 8, 1, 1, 9, 1, 6, 8,\n",
              "       9, 8, 7, 9, 2, 4, 0, 6, 0, 0, 2, 4, 0, 4, 7, 9, 3, 5, 9, 5, 1, 8,\n",
              "       4, 3, 1, 2, 3, 6, 9, 9, 6, 1, 8, 1, 0, 5, 0, 1, 5, 2, 0, 2, 3, 5,\n",
              "       8, 1, 5, 0, 1, 8, 1, 0, 2, 5, 3, 3, 9, 7, 8, 5, 5, 9, 7, 4, 4, 9,\n",
              "       6, 8, 6, 9, 0, 9, 9, 4, 7, 7, 7, 5, 3, 1, 3, 5, 7, 2, 1, 0, 3, 9,\n",
              "       7, 1, 5, 0, 3, 4, 5, 7, 1, 1, 4, 9, 7, 1, 6, 0, 6, 1, 0, 6, 5, 8,\n",
              "       7, 6, 5, 6, 1, 3, 1, 1, 0, 6, 7, 3, 5, 3, 9, 7, 5, 0, 5, 3, 6, 4,\n",
              "       0, 8, 1, 5, 5, 0, 3, 5, 2, 7, 9, 6, 7, 1, 2, 4, 7, 3, 9, 7, 9, 1,\n",
              "       2, 7, 2, 6, 3, 4, 4, 3, 7, 5, 5, 7, 5, 9, 4, 1, 5, 0, 7, 3, 2, 3,\n",
              "       7, 0, 3, 7, 4, 2, 3, 2, 7, 7, 1, 2, 2, 1, 6, 7, 8, 3, 6, 5, 3, 4,\n",
              "       8, 0, 8, 7, 4, 4, 9, 3, 3, 3, 5, 0, 6, 3, 5, 1, 5, 9, 4, 0, 1, 2,\n",
              "       9, 5, 6, 5, 4, 5, 0, 1, 2, 5, 9, 7, 9, 8, 0, 0, 4, 7, 5, 5, 1, 0,\n",
              "       7, 4, 1, 4, 8, 7, 2, 0, 9, 0, 0, 9])"
            ]
          },
          "metadata": {},
          "execution_count": 50
        }
      ]
    },
    {
      "cell_type": "markdown",
      "source": [
        "##Model Accuracy"
      ],
      "metadata": {
        "id": "hO_6Pn8HFBns"
      }
    },
    {
      "cell_type": "code",
      "source": [
        "from sklearn.metrics import confusion_matrix,classification_report"
      ],
      "metadata": {
        "id": "AXaYLJfpFK7s"
      },
      "execution_count": 51,
      "outputs": []
    },
    {
      "cell_type": "code",
      "source": [
        "confusion_matrix(y_test,y_pred1)"
      ],
      "metadata": {
        "colab": {
          "base_uri": "https://localhost:8080/",
          "height": 0
        },
        "id": "yNPXiIoAFJys",
        "outputId": "38c96293-ef4d-4413-be60-c4ba68d0b93f"
      },
      "execution_count": 52,
      "outputs": [
        {
          "output_type": "execute_result",
          "data": {
            "text/plain": [
              "array([[66,  0,  0,  0,  0,  0,  0,  0,  0,  0],\n",
              "       [ 0, 51,  0,  0,  0,  0,  0,  0,  0,  0],\n",
              "       [ 0,  0, 40,  0,  0,  0,  0,  0,  0,  0],\n",
              "       [ 0,  0,  0, 56,  0,  0,  0,  0,  0,  0],\n",
              "       [ 0,  0,  0,  0, 50,  0,  0,  2,  0,  1],\n",
              "       [ 0,  0,  0,  0,  0, 61,  0,  0,  0,  1],\n",
              "       [ 0,  0,  0,  0,  0,  0, 57,  0,  1,  0],\n",
              "       [ 0,  0,  0,  0,  0,  0,  0, 61,  1,  1],\n",
              "       [ 0,  3,  0,  0,  0,  1,  0,  1, 42,  0],\n",
              "       [ 0,  0,  0,  3,  0,  0,  0,  0,  0, 41]])"
            ]
          },
          "metadata": {},
          "execution_count": 52
        }
      ]
    },
    {
      "cell_type": "code",
      "source": [
        "print(classification_report(y_test,y_pred1))"
      ],
      "metadata": {
        "colab": {
          "base_uri": "https://localhost:8080/",
          "height": 0
        },
        "id": "sRH7080YFbHL",
        "outputId": "dc8ceda3-a526-43fd-aa83-a38f27bd1039"
      },
      "execution_count": 54,
      "outputs": [
        {
          "output_type": "stream",
          "name": "stdout",
          "text": [
            "              precision    recall  f1-score   support\n",
            "\n",
            "           0       1.00      1.00      1.00        66\n",
            "           1       0.94      1.00      0.97        51\n",
            "           2       1.00      1.00      1.00        40\n",
            "           3       0.95      1.00      0.97        56\n",
            "           4       1.00      0.94      0.97        53\n",
            "           5       0.98      0.98      0.98        62\n",
            "           6       1.00      0.98      0.99        58\n",
            "           7       0.95      0.97      0.96        63\n",
            "           8       0.95      0.89      0.92        47\n",
            "           9       0.93      0.93      0.93        44\n",
            "\n",
            "    accuracy                           0.97       540\n",
            "   macro avg       0.97      0.97      0.97       540\n",
            "weighted avg       0.97      0.97      0.97       540\n",
            "\n"
          ]
        }
      ]
    },
    {
      "cell_type": "markdown",
      "source": [
        "## Decision Tree Model (Model 2)"
      ],
      "metadata": {
        "id": "mmNlY_nPGEWP"
      }
    },
    {
      "cell_type": "code",
      "source": [
        "from sklearn.tree import DecisionTreeClassifier"
      ],
      "metadata": {
        "id": "GmwVRbxCGaEB"
      },
      "execution_count": 55,
      "outputs": []
    },
    {
      "cell_type": "code",
      "source": [
        "model2 = DecisionTreeClassifier()"
      ],
      "metadata": {
        "id": "J5Fpcp8zGbuj"
      },
      "execution_count": 57,
      "outputs": []
    },
    {
      "cell_type": "code",
      "source": [
        "model2.fit(X_train,y_train)"
      ],
      "metadata": {
        "colab": {
          "base_uri": "https://localhost:8080/",
          "height": 74
        },
        "id": "lx9LmF3SGgHz",
        "outputId": "330e3337-0563-4001-e568-b435c8896048"
      },
      "execution_count": 58,
      "outputs": [
        {
          "output_type": "execute_result",
          "data": {
            "text/plain": [
              "DecisionTreeClassifier()"
            ],
            "text/html": [
              "<style>#sk-container-id-4 {color: black;background-color: white;}#sk-container-id-4 pre{padding: 0;}#sk-container-id-4 div.sk-toggleable {background-color: white;}#sk-container-id-4 label.sk-toggleable__label {cursor: pointer;display: block;width: 100%;margin-bottom: 0;padding: 0.3em;box-sizing: border-box;text-align: center;}#sk-container-id-4 label.sk-toggleable__label-arrow:before {content: \"▸\";float: left;margin-right: 0.25em;color: #696969;}#sk-container-id-4 label.sk-toggleable__label-arrow:hover:before {color: black;}#sk-container-id-4 div.sk-estimator:hover label.sk-toggleable__label-arrow:before {color: black;}#sk-container-id-4 div.sk-toggleable__content {max-height: 0;max-width: 0;overflow: hidden;text-align: left;background-color: #f0f8ff;}#sk-container-id-4 div.sk-toggleable__content pre {margin: 0.2em;color: black;border-radius: 0.25em;background-color: #f0f8ff;}#sk-container-id-4 input.sk-toggleable__control:checked~div.sk-toggleable__content {max-height: 200px;max-width: 100%;overflow: auto;}#sk-container-id-4 input.sk-toggleable__control:checked~label.sk-toggleable__label-arrow:before {content: \"▾\";}#sk-container-id-4 div.sk-estimator input.sk-toggleable__control:checked~label.sk-toggleable__label {background-color: #d4ebff;}#sk-container-id-4 div.sk-label input.sk-toggleable__control:checked~label.sk-toggleable__label {background-color: #d4ebff;}#sk-container-id-4 input.sk-hidden--visually {border: 0;clip: rect(1px 1px 1px 1px);clip: rect(1px, 1px, 1px, 1px);height: 1px;margin: -1px;overflow: hidden;padding: 0;position: absolute;width: 1px;}#sk-container-id-4 div.sk-estimator {font-family: monospace;background-color: #f0f8ff;border: 1px dotted black;border-radius: 0.25em;box-sizing: border-box;margin-bottom: 0.5em;}#sk-container-id-4 div.sk-estimator:hover {background-color: #d4ebff;}#sk-container-id-4 div.sk-parallel-item::after {content: \"\";width: 100%;border-bottom: 1px solid gray;flex-grow: 1;}#sk-container-id-4 div.sk-label:hover label.sk-toggleable__label {background-color: #d4ebff;}#sk-container-id-4 div.sk-serial::before {content: \"\";position: absolute;border-left: 1px solid gray;box-sizing: border-box;top: 0;bottom: 0;left: 50%;z-index: 0;}#sk-container-id-4 div.sk-serial {display: flex;flex-direction: column;align-items: center;background-color: white;padding-right: 0.2em;padding-left: 0.2em;position: relative;}#sk-container-id-4 div.sk-item {position: relative;z-index: 1;}#sk-container-id-4 div.sk-parallel {display: flex;align-items: stretch;justify-content: center;background-color: white;position: relative;}#sk-container-id-4 div.sk-item::before, #sk-container-id-4 div.sk-parallel-item::before {content: \"\";position: absolute;border-left: 1px solid gray;box-sizing: border-box;top: 0;bottom: 0;left: 50%;z-index: -1;}#sk-container-id-4 div.sk-parallel-item {display: flex;flex-direction: column;z-index: 1;position: relative;background-color: white;}#sk-container-id-4 div.sk-parallel-item:first-child::after {align-self: flex-end;width: 50%;}#sk-container-id-4 div.sk-parallel-item:last-child::after {align-self: flex-start;width: 50%;}#sk-container-id-4 div.sk-parallel-item:only-child::after {width: 0;}#sk-container-id-4 div.sk-dashed-wrapped {border: 1px dashed gray;margin: 0 0.4em 0.5em 0.4em;box-sizing: border-box;padding-bottom: 0.4em;background-color: white;}#sk-container-id-4 div.sk-label label {font-family: monospace;font-weight: bold;display: inline-block;line-height: 1.2em;}#sk-container-id-4 div.sk-label-container {text-align: center;}#sk-container-id-4 div.sk-container {/* jupyter's `normalize.less` sets `[hidden] { display: none; }` but bootstrap.min.css set `[hidden] { display: none !important; }` so we also need the `!important` here to be able to override the default hidden behavior on the sphinx rendered scikit-learn.org. See: https://github.com/scikit-learn/scikit-learn/issues/21755 */display: inline-block !important;position: relative;}#sk-container-id-4 div.sk-text-repr-fallback {display: none;}</style><div id=\"sk-container-id-4\" class=\"sk-top-container\"><div class=\"sk-text-repr-fallback\"><pre>DecisionTreeClassifier()</pre><b>In a Jupyter environment, please rerun this cell to show the HTML representation or trust the notebook. <br />On GitHub, the HTML representation is unable to render, please try loading this page with nbviewer.org.</b></div><div class=\"sk-container\" hidden><div class=\"sk-item\"><div class=\"sk-estimator sk-toggleable\"><input class=\"sk-toggleable__control sk-hidden--visually\" id=\"sk-estimator-id-4\" type=\"checkbox\" checked><label for=\"sk-estimator-id-4\" class=\"sk-toggleable__label sk-toggleable__label-arrow\">DecisionTreeClassifier</label><div class=\"sk-toggleable__content\"><pre>DecisionTreeClassifier()</pre></div></div></div></div></div>"
            ]
          },
          "metadata": {},
          "execution_count": 58
        }
      ]
    },
    {
      "cell_type": "markdown",
      "source": [
        "##Predict data"
      ],
      "metadata": {
        "id": "3Qh10FgQGJ2C"
      }
    },
    {
      "cell_type": "code",
      "source": [
        "y_pred2 = model2.predict(X_test)"
      ],
      "metadata": {
        "id": "eHSQMrXoGsqC"
      },
      "execution_count": 59,
      "outputs": []
    },
    {
      "cell_type": "code",
      "source": [
        "y_pred2"
      ],
      "metadata": {
        "colab": {
          "base_uri": "https://localhost:8080/",
          "height": 0
        },
        "id": "mSZGSE_SG59L",
        "outputId": "39e9e50b-bcc8-46f9-def2-69abd1f6596b"
      },
      "execution_count": 60,
      "outputs": [
        {
          "output_type": "execute_result",
          "data": {
            "text/plain": [
              "array([3, 5, 0, 0, 6, 4, 5, 4, 2, 6, 6, 9, 5, 3, 1, 1, 0, 9, 3, 8, 7, 6,\n",
              "       4, 3, 8, 6, 0, 8, 9, 6, 3, 0, 6, 7, 9, 7, 0, 7, 3, 3, 7, 4, 3, 9,\n",
              "       8, 7, 7, 0, 7, 2, 6, 9, 7, 4, 4, 8, 6, 0, 7, 6, 6, 1, 2, 7, 6, 3,\n",
              "       2, 1, 6, 6, 1, 7, 9, 6, 7, 2, 4, 0, 7, 3, 5, 0, 4, 0, 2, 8, 8, 0,\n",
              "       5, 2, 9, 3, 3, 5, 3, 0, 4, 7, 5, 5, 0, 7, 8, 8, 6, 5, 0, 0, 3, 0,\n",
              "       3, 7, 3, 6, 9, 6, 8, 7, 9, 7, 1, 1, 9, 5, 4, 0, 9, 1, 8, 4, 6, 7,\n",
              "       2, 0, 4, 4, 5, 5, 8, 5, 6, 5, 8, 2, 9, 7, 7, 4, 5, 1, 9, 2, 4, 2,\n",
              "       6, 5, 8, 7, 1, 7, 5, 0, 7, 0, 8, 5, 2, 8, 0, 2, 5, 4, 5, 0, 6, 4,\n",
              "       6, 4, 3, 3, 7, 9, 1, 8, 6, 8, 9, 5, 0, 0, 5, 1, 2, 8, 9, 0, 6, 6,\n",
              "       6, 9, 4, 7, 0, 4, 4, 6, 1, 4, 6, 5, 8, 6, 0, 5, 5, 7, 6, 2, 8, 5,\n",
              "       3, 6, 3, 7, 3, 9, 3, 8, 7, 8, 3, 6, 6, 6, 1, 5, 8, 6, 6, 5, 4, 0,\n",
              "       5, 4, 4, 4, 8, 8, 0, 7, 0, 2, 5, 0, 9, 2, 5, 4, 8, 5, 0, 4, 9, 9,\n",
              "       4, 7, 2, 2, 9, 7, 5, 8, 3, 7, 3, 8, 2, 7, 5, 8, 8, 1, 9, 1, 6, 8,\n",
              "       2, 8, 7, 9, 2, 4, 4, 6, 0, 0, 2, 4, 0, 4, 7, 9, 3, 5, 9, 5, 1, 8,\n",
              "       1, 3, 8, 2, 3, 6, 7, 9, 6, 1, 8, 1, 0, 5, 9, 3, 5, 2, 0, 2, 3, 5,\n",
              "       8, 1, 5, 0, 1, 8, 1, 0, 2, 5, 3, 3, 9, 7, 8, 5, 5, 9, 7, 4, 1, 9,\n",
              "       6, 8, 6, 9, 0, 9, 9, 4, 7, 8, 7, 5, 3, 1, 9, 5, 7, 2, 1, 0, 3, 9,\n",
              "       7, 1, 5, 0, 3, 4, 5, 8, 1, 0, 4, 9, 7, 8, 6, 0, 6, 1, 0, 6, 5, 8,\n",
              "       7, 6, 5, 6, 1, 3, 1, 1, 0, 6, 7, 3, 5, 3, 9, 9, 5, 0, 5, 8, 6, 4,\n",
              "       0, 8, 5, 5, 5, 0, 3, 5, 2, 7, 9, 6, 7, 1, 2, 0, 7, 3, 9, 7, 9, 1,\n",
              "       2, 7, 2, 6, 3, 4, 4, 3, 7, 5, 5, 7, 5, 9, 4, 1, 5, 0, 7, 8, 2, 3,\n",
              "       7, 9, 9, 7, 4, 2, 3, 2, 7, 7, 1, 2, 2, 1, 6, 7, 8, 3, 6, 5, 3, 4,\n",
              "       8, 0, 8, 7, 4, 4, 9, 3, 8, 3, 5, 0, 6, 3, 5, 1, 5, 9, 4, 6, 1, 7,\n",
              "       9, 5, 6, 5, 4, 5, 0, 1, 2, 5, 9, 7, 1, 3, 9, 0, 6, 7, 5, 5, 1, 0,\n",
              "       7, 4, 8, 4, 1, 7, 2, 0, 9, 1, 0, 9])"
            ]
          },
          "metadata": {},
          "execution_count": 60
        }
      ]
    },
    {
      "cell_type": "markdown",
      "source": [
        "## Model Accuracy"
      ],
      "metadata": {
        "id": "Ekx3B8RrG-U_"
      }
    },
    {
      "cell_type": "code",
      "source": [
        "from sklearn.metrics import confusion_matrix,classification_report"
      ],
      "metadata": {
        "id": "sExNuTScHBI6"
      },
      "execution_count": 61,
      "outputs": []
    },
    {
      "cell_type": "code",
      "source": [
        "confusion_matrix(y_test,y_pred2)"
      ],
      "metadata": {
        "colab": {
          "base_uri": "https://localhost:8080/",
          "height": 0
        },
        "id": "OmUaqhAoHEb5",
        "outputId": "23444f25-dbd1-42de-bf5d-96c96fcf2966"
      },
      "execution_count": 62,
      "outputs": [
        {
          "output_type": "execute_result",
          "data": {
            "text/plain": [
              "array([[56,  1,  0,  0,  1,  1,  1,  0,  0,  6],\n",
              "       [ 1, 36,  2,  1,  2,  1,  0,  1,  5,  2],\n",
              "       [ 0,  0, 35,  1,  0,  0,  0,  2,  2,  0],\n",
              "       [ 0,  0,  1, 43,  0,  4,  0,  1,  6,  1],\n",
              "       [ 1,  2,  0,  0, 45,  0,  1,  2,  1,  1],\n",
              "       [ 0,  0,  0,  1,  1, 59,  0,  0,  0,  1],\n",
              "       [ 0,  0,  0,  0,  0,  1, 56,  0,  1,  0],\n",
              "       [ 1,  0,  1,  0,  0,  0,  0, 59,  2,  0],\n",
              "       [ 0,  4,  0,  2,  0,  4,  0,  1, 34,  2],\n",
              "       [ 0,  1,  0,  2,  0,  0,  0,  0,  1, 40]])"
            ]
          },
          "metadata": {},
          "execution_count": 62
        }
      ]
    },
    {
      "cell_type": "code",
      "source": [
        "print(classification_report(y_test,y_pred2))"
      ],
      "metadata": {
        "colab": {
          "base_uri": "https://localhost:8080/",
          "height": 0
        },
        "id": "Objc1IRMHEyy",
        "outputId": "6c5633f3-dd77-4208-8a81-ae43a6578810"
      },
      "execution_count": 63,
      "outputs": [
        {
          "output_type": "stream",
          "name": "stdout",
          "text": [
            "              precision    recall  f1-score   support\n",
            "\n",
            "           0       0.95      0.85      0.90        66\n",
            "           1       0.82      0.71      0.76        51\n",
            "           2       0.90      0.88      0.89        40\n",
            "           3       0.86      0.77      0.81        56\n",
            "           4       0.92      0.85      0.88        53\n",
            "           5       0.84      0.95      0.89        62\n",
            "           6       0.97      0.97      0.97        58\n",
            "           7       0.89      0.94      0.91        63\n",
            "           8       0.65      0.72      0.69        47\n",
            "           9       0.75      0.91      0.82        44\n",
            "\n",
            "    accuracy                           0.86       540\n",
            "   macro avg       0.86      0.85      0.85       540\n",
            "weighted avg       0.86      0.86      0.86       540\n",
            "\n"
          ]
        }
      ]
    }
  ]
}